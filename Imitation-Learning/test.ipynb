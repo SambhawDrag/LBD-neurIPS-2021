{
 "cells": [
  {
   "cell_type": "code",
   "execution_count": null,
   "source": [
    "import torch\n",
    "from typing import Any\n",
    "import numpy as np\n",
    "import torch.nn as nn\n",
    "import torch.nn.functional as F\n",
    "from Traj2Dataset import TrajDataset, DatasetTransform\n",
    "from torch.utils.data import DataLoader, SubsetRandomSampler\n",
    "import pytorch_lightning as pl\n",
    "from pytorch_lightning import loggers\n",
    "from pytorch_lightning.callbacks import EarlyStopping\n",
    "from pytorch_lightning import seed_everything\n",
    "from model import LitMLP as Net"
   ],
   "outputs": [],
   "metadata": {}
  },
  {
   "cell_type": "code",
   "execution_count": null,
   "source": [
    "root_dir = 'dataset'\n",
    "system = 'great-piquant-bumblebee'\n",
    "validation_split = 0.2\n",
    "learning_rate = 1e-3\n",
    "batch_size = 32\n",
    "max_epochs = 100\n",
    "shuffle = True\n",
    "SEED = 42\n",
    "logdir = './logs/'\n",
    "num_workers = 4\n",
    "\n",
    "seed_everything(SEED)"
   ],
   "outputs": [],
   "metadata": {}
  },
  {
   "cell_type": "code",
   "execution_count": null,
   "source": [
    "\n",
    "train_dataset = TrajDataset(system, root_dir)\n",
    "\n",
    "state_dim = len(train_dataset.states)\n",
    "action_dim = len(train_dataset.actions)\n",
    "\n",
    "mean = [x['mean'] for x in train_dataset.states]  # mean\n",
    "std = [x['std'] for x in train_dataset.states]   # std_dev\n",
    "transform = DatasetTransform(mean, std)\n",
    "\n",
    "target_mean = [x['mean'] for x in train_dataset.actions]  # mean\n",
    "target_std = [x['std'] for x in train_dataset.actions]   # std_dev\n",
    "target_transform = DatasetTransform(target_mean, target_std)\n",
    "\n",
    "train_dataset.tranform = transform\n",
    "train_dataset.target_transform = target_transform\n",
    "\n",
    "test_dataset = TrajDataset(system, root_dir, train=False,\n",
    "                           transform=transform,\n",
    "                           target_transform=target_transform)\n",
    "indices = np.arange(len(train_dataset))\n",
    "\n",
    "if shuffle is True:\n",
    "    np.random.shuffle(indices)"
   ],
   "outputs": [],
   "metadata": {}
  },
  {
   "cell_type": "code",
   "execution_count": null,
   "source": [
    "path = \"./submission/models/great-piquant-bumblebee-v1.ckpt\"\n",
    "self.model = Net.load_from_checkpoint(\n",
    "            path, in_dims=10, out_dims=2)"
   ],
   "outputs": [],
   "metadata": {}
  },
  {
   "cell_type": "code",
   "execution_count": null,
   "source": [
    "def upscale(x):\n",
    "    return x * torch.Tensor(target_std) + torch.Tensor(target_mean)\n",
    "\n",
    "\n",
    "test_dataloader = DataLoader(test_dataset,\n",
    "                             batch_size=1, shuffle=False,\n",
    "                             num_workers=0)\n",
    "\n",
    "for i, (x, y) in enumerate(test_dataloader):\n",
    "    print(f'Time-step: {i}')\n",
    "    print(f'Target: {upscale(y)}')\n",
    "    print(f'Prediction: {upscale(model(x))}')"
   ],
   "outputs": [],
   "metadata": {}
  },
  {
   "cell_type": "code",
   "execution_count": null,
   "source": [
    "def test():\n",
    "    ctrl = controller(system='great-piquant-bumblebee', d_control=2)\n",
    "    ## input provided as a vector of shape (X,1)\n",
    "    print(ctrl.get_input(\n",
    "        np.random.randn(8,1),\n",
    "        np.random.randn(2,1),\n",
    "        np.random.randn(2,1)\n",
    "    ))"
   ],
   "outputs": [],
   "metadata": {}
  },
  {
   "cell_type": "code",
   "execution_count": null,
   "source": [
    "from matplotlib import pyplot as plt\n",
    "\n",
    "targets = []\n",
    "test_dataset = TrajDataset(system,root_dir,train = False)\n",
    "print(test_dataset.states)\n",
    "\n",
    "# first two states are X,Y for end-effectors\n",
    "for i,(x,_) in enumerate(test_dataset):\n",
    "    targets.append(x[0:2])\n",
    "targets = np.array(targets)\n",
    "plt.plot(targets[:,0],targets[:,1])"
   ],
   "outputs": [],
   "metadata": {}
  },
  {
   "cell_type": "code",
   "execution_count": null,
   "source": [
    "targets = []\n",
    "train_dataset = TrajDataset(system, root_dir, train=True)\n",
    "\n",
    "# first two states are X,Y for end-effectors\n",
    "traj_ID = 3\n",
    "for i, (x, _) in enumerate(train_dataset):\n",
    "    # each trajectory is a slice of 200 points in dataset\n",
    "    if i in range(200*traj_ID, 200*(traj_ID+1)):\n",
    "        targets.append(x[:2])\n",
    "targets = np.array(targets)\n",
    "plt.plot(targets[:, 0], targets[:, 1])"
   ],
   "outputs": [],
   "metadata": {}
  }
 ],
 "metadata": {
  "orig_nbformat": 4,
  "language_info": {
   "name": "python",
   "version": "3.6.9",
   "mimetype": "text/x-python",
   "codemirror_mode": {
    "name": "ipython",
    "version": 3
   },
   "pygments_lexer": "ipython3",
   "nbconvert_exporter": "python",
   "file_extension": ".py"
  },
  "kernelspec": {
   "name": "python3",
   "display_name": "Python 3.6.9 64-bit"
  },
  "interpreter": {
   "hash": "31f2aee4e71d21fbe5cf8b01ff0e069b9275f58929596ceb00d14d90e3e16cd6"
  }
 },
 "nbformat": 4,
 "nbformat_minor": 2
}